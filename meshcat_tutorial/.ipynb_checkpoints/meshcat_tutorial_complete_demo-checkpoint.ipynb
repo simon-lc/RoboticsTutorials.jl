{
 "cells": [
  {
   "cell_type": "markdown",
   "metadata": {},
   "source": [
    "# MeshCat.jl Tutorial\n",
    "### Create animations in Julia"
   ]
  },
  {
   "cell_type": "code",
   "execution_count": 265,
   "metadata": {},
   "outputs": [],
   "source": [
    "using Blink # Custom size window\n",
    "using Colors: RGBA, RGB # Handle RGB colors\n",
    "using CoordinateTransformations # Translations and rotations\n",
    "using FileIO # Save and load files\n",
    "using GeometryTypes: # Define geometric shapes\n",
    "    GeometryTypes, HyperRectangle, Vec, Point, Rectangle, Cylinder,\n",
    "    HomogenousMesh, SignedDistanceField, HyperSphere, GLUVMesh, Pyramid\n",
    "using JLD2 # Save and load Julia data structures\n",
    "using LinearAlgebra\n",
    "using MeshCat # Visualize 3D animations\n",
    "using MeshIO # Load meshes in MeshCat"
   ]
  },
  {
   "cell_type": "code",
   "execution_count": 266,
   "metadata": {},
   "outputs": [],
   "source": [
    "include(\"structure.jl\") # Import parameters data structures\n",
    "include(\"parameters.jl\"); # Import default parameters of the scene"
   ]
  },
  {
   "cell_type": "markdown",
   "metadata": {},
   "source": [
    "### Load the trajectories of the cars and the parameters of the scene obtained via ALGAMES."
   ]
  },
  {
   "cell_type": "code",
   "execution_count": 267,
   "metadata": {},
   "outputs": [],
   "source": [
    "function load_data()\n",
    "    load(\"animation/trajectory/scene.jld2\", \"X\", \"U\",\n",
    "        \"problem_parameters\", \"scene_parameters\")\n",
    "end\n",
    "X, U, prob_param, scene_param = load_data()\n",
    "\n",
    "# Extract problem parameters\n",
    "N = prob_param.N\n",
    "p = prob_param.p\n",
    "radius = prob_param.radius\n",
    "state_bound_points = prob_param.boundary_points\n",
    "merge_point = prob_param.merge_point\n",
    "\n",
    "# Extract scene parameters\n",
    "road_dims = scene_param.road_dims\n",
    "line_width = scene_param.line_width\n",
    "boundary_width = scene_param.boundary_width\n",
    "road_trans = scene_param.road_trans\n",
    "road_translation = Translation(road_trans...)\n",
    "boundary_height = scene_param.boundary_height\n",
    "cylinder_height = scene_param.cylinder_height\n",
    "car_offset = scene_param.car_offset\n",
    "color_names = scene_param.color_names\n",
    "color_values = scene_param.color_values;\n",
    "tracking_id = scene_param.tracking_id\n",
    "zoom = scene_param.zoom\n",
    "traveling_trans = scene_param.traveling_trans\n",
    "traveling_rot = scene_param.traveling_rot\n",
    "birdseye_trans = scene_param.birdseye_trans\n",
    "birdseye_rot = scene_param.birdseye_rot;"
   ]
  },
  {
   "cell_type": "markdown",
   "metadata": {},
   "source": [
    "### For each car, create a sequence of car translations and rotations corresponding to their trajectories. "
   ]
  },
  {
   "cell_type": "code",
   "execution_count": 268,
   "metadata": {},
   "outputs": [],
   "source": [
    "function car_transformations(X, prob_param, scene_param)\n",
    "    car_offset = scene_param.car_offset\n",
    "    N = prob_param.N\n",
    "    p = prob_param.p\n",
    "    car_translations = []\n",
    "    car_rotations = []\n",
    "    for k=1:N\n",
    "        car_translation = [Translation(X[1:2,k,id]..., 0) for id=1:p]\n",
    "        if k==N\n",
    "            # Deals with the last step, we assume constant heading\n",
    "            car_rotation = car_rotations[end]\n",
    "        else\n",
    "            angles = [atan(X[2,k+1,id]-X[2,k,id], X[1,k+1,id]-X[1,k,id])\n",
    "                for id=1:p]\n",
    "            car_rotation = [LinearMap(AngleAxis(angles[id], 0, 1, 0))\n",
    "                for id=1:p]\n",
    "        end\n",
    "        push!(car_translations, car_translation)\n",
    "        push!(car_rotations, car_rotation)\n",
    "    end\n",
    "    return car_translations, car_rotations\n",
    "end\n",
    "car_translations, car_rotations = car_transformations(\n",
    "        X, prob_param, scene_param);"
   ]
  },
  {
   "cell_type": "markdown",
   "metadata": {},
   "source": [
    "# Create the scene\n",
    "\n",
    "### Create and open visualizer"
   ]
  },
  {
   "cell_type": "code",
   "execution_count": 269,
   "metadata": {},
   "outputs": [
    {
     "name": "stderr",
     "output_type": "stream",
     "text": [
      "┌ Info: Serving MeshCat visualizer at http://127.0.0.1:8763\n",
      "└ @ MeshCat /home/simon/.julia/packages/MeshCat/GMobF/src/servers.jl:24\n"
     ]
    }
   ],
   "source": [
    "vis = Visualizer()\n",
    "open(vis);"
   ]
  },
  {
   "cell_type": "markdown",
   "metadata": {},
   "source": [
    "### Display cars in Meshcat\n",
    "- Load the Mesh from the .obj file.\n",
    "- Load the texture image from the .png file.\n",
    "- Create texture from the image.\n",
    "- Create material from the texture.\n",
    "- Create object by combining the material and the mesh. \n"
   ]
  },
  {
   "cell_type": "code",
   "execution_count": 270,
   "metadata": {},
   "outputs": [],
   "source": [
    "# Load mesh\n",
    "car = load(\"animation/object/car/car_geometry.obj\", GLUVMesh)\n",
    "for id=1:p\n",
    "    # Load texture image\n",
    "    car_image = PngImage(\"animation/image/\" * color_names[id] * \".png\")\n",
    "    # Create texture \n",
    "    car_texture = Texture(image=car_image)\n",
    "    # Create material\n",
    "    car_material = MeshLambertMaterial(map=car_texture)\n",
    "    # Create object\n",
    "    setobject!(vis[\"car$id\"], car, car_material)\n",
    "    # Place object at the origin\n",
    "    settransform!(vis[\"car$id\"], car_offset)\n",
    "    # Add collision avoidance cylinders\n",
    "    collision_cylinder = Cylinder(Point(0.0,0.0,0.0),\n",
    "        Point(0.0,0.0,cylinder_height), radius)\n",
    "    cylinder_material = MeshPhongMaterial(color=RGBA(\n",
    "            color_values[id,:]..., 9e-1))\n",
    "    setobject!(vis[\"collision_cylinder$id\"], \n",
    "        collision_cylinder, cylinder_material)\n",
    "    settransform!(vis[\"collision_cylinder$id\"], \n",
    "        Translation(0.0, 0.0, 0.0))\n",
    "end"
   ]
  },
  {
   "cell_type": "markdown",
   "metadata": {},
   "source": [
    "### Display the main roadway"
   ]
  },
  {
   "cell_type": "code",
   "execution_count": 271,
   "metadata": {},
   "outputs": [],
   "source": [
    "road_image = PngImage(\"animation/image/road.png\")\n",
    "road_texture = Texture(image=road_image)\n",
    "road_material = MeshLambertMaterial(map=road_texture)\n",
    "road_width = (state_bound_points[1,2]+radius) - \n",
    "    (state_bound_points[3,2]-radius) + 2*line_width\n",
    "road = HyperRectangle(Vec(0.0, -(road_width/2-road_dims[2]), \n",
    "    -road_dims[3]), Vec(road_dims[1], road_width, road_dims[3]))\n",
    "setobject!(vis[\"road\"], road, road_material)\n",
    "settransform!(vis[\"road\"], road_translation);"
   ]
  },
  {
   "cell_type": "markdown",
   "metadata": {},
   "source": [
    "### Display the yellow lines"
   ]
  },
  {
   "cell_type": "code",
   "execution_count": 272,
   "metadata": {},
   "outputs": [],
   "source": [
    "line_material = MeshPhongMaterial(color=RGBA(1, 1, 0, 1.0))\n",
    "line = Rectangle(0.0, 0.0, road_dims[1], line_width)\n",
    "for i=1:3\n",
    "    setobject!(vis[\"line$i\"], line, line_material)\n",
    "    line_translation = compose(Translation(0, (i-1)*road_dims[2] - \n",
    "            line_width/2, 0.04), road_translation)\n",
    "    settransform!(vis[\"line$i\"], line_translation)\n",
    "end"
   ]
  },
  {
   "cell_type": "markdown",
   "metadata": {},
   "source": [
    "### Display the road boundaries"
   ]
  },
  {
   "cell_type": "code",
   "execution_count": 273,
   "metadata": {},
   "outputs": [],
   "source": [
    "boundary_image = PngImage(\"animation/image/black_boundary.png\")\n",
    "boundary_texture = Texture(image=boundary_image)\n",
    "boundary_material = MeshLambertMaterial(map=boundary_texture)\n",
    "ramp_extension = 10.0;"
   ]
  },
  {
   "cell_type": "markdown",
   "metadata": {},
   "source": [
    "#### Upper boundary\n"
   ]
  },
  {
   "cell_type": "code",
   "execution_count": 274,
   "metadata": {},
   "outputs": [],
   "source": [
    "boundary1 = HyperRectangle(Vec(0.0, 0.0, 0.0), \n",
    "    Vec(road_dims[1], boundary_width, boundary_height))\n",
    "setobject!(vis[\"boundary1\"], boundary1, boundary_material)\n",
    "boundary1_translation = compose(Translation(0, \n",
    "        state_bound_points[1,2]+radius, 0.0), road_translation)\n",
    "settransform!(vis[\"boundary1\"], boundary1_translation);"
   ]
  },
  {
   "cell_type": "markdown",
   "metadata": {},
   "source": [
    "#### Lower boundary 1\n"
   ]
  },
  {
   "cell_type": "code",
   "execution_count": 276,
   "metadata": {},
   "outputs": [],
   "source": [
    "Δ = [merge_point, state_bound_points[3,2] - state_bound_points[2,2]]\n",
    "length = sqrt(Δ'*Δ) + ramp_extension\n",
    "angle = atan(Δ[2], Δ[1])\n",
    "boundary2 = HyperRectangle(Vec(-ramp_extension, \n",
    "        -boundary_width, 0.0), Vec(length - radius*sin(angle/2), \n",
    "        boundary_width, boundary_height))\n",
    "setobject!(vis[\"boundary2\"], boundary2, boundary_material)\n",
    "boundary2_translation = Translation(radius*cos(-pi/2+angle), \n",
    "    state_bound_points[2,2]+radius*sin(-pi/2+angle), 0.0)\n",
    "boundary2_translation = compose(Translation(-4*radius*sin(angle/2), 0, 0),\n",
    "    boundary2_translation)\n",
    "boundary2_translation = compose(LinearMap(AngleAxis(angle, 0, 0, 1)), \n",
    "    boundary2_translation)\n",
    "settransform!(vis[\"boundary2\"], boundary2_translation);"
   ]
  },
  {
   "cell_type": "markdown",
   "metadata": {},
   "source": [
    "#### Lower boundary 2\n"
   ]
  },
  {
   "cell_type": "code",
   "execution_count": 277,
   "metadata": {},
   "outputs": [],
   "source": [
    "boundary3 =\tHyperRectangle(Vec(0.0, -boundary_width, 0.0), \n",
    "    Vec(road_dims[1]-merge_point+road_trans[1]-radius*sin(angle/2), \n",
    "        boundary_width, boundary_height))\n",
    "setobject!(vis[\"boundary3\"], \n",
    "    boundary3, boundary_material)\n",
    "boundary3_translation = Translation(merge_point+radius*sin(angle/2), \n",
    "    state_bound_points[3,2]-radius, 0.0)\n",
    "settransform!(vis[\"boundary3\"], boundary3_translation);"
   ]
  },
  {
   "cell_type": "markdown",
   "metadata": {},
   "source": [
    "### Display the ramp"
   ]
  },
  {
   "cell_type": "code",
   "execution_count": 278,
   "metadata": {},
   "outputs": [],
   "source": [
    "ramp_width = road_width - road_dims[2]\n",
    "ramp = HyperRectangle(Vec(-ramp_extension, 0.0, -road_dims[3]), \n",
    "    Vec(length, ramp_width, road_dims[3]))\n",
    "ramp_translation = Translation(0.0, state_bound_points[2,2]-radius, -0.04)\n",
    "ramp_translation = compose(LinearMap(AngleAxis(angle, 0, 0, 1)), \n",
    "    ramp_translation)\n",
    "setobject!(vis[\"ramp\"], ramp, road_material)\n",
    "settransform!(vis[\"ramp\"], ramp_translation);"
   ]
  },
  {
   "cell_type": "markdown",
   "metadata": {},
   "source": [
    "# Improve the visualization\n",
    "### Delete the grid and the axes in the visualizer."
   ]
  },
  {
   "cell_type": "code",
   "execution_count": 279,
   "metadata": {},
   "outputs": [],
   "source": [
    "delete!(vis[\"/Grid\"])\n",
    "delete!(vis[\"/Axes\"]);"
   ]
  },
  {
   "cell_type": "markdown",
   "metadata": {},
   "source": [
    "### Set the camera and light properties."
   ]
  },
  {
   "cell_type": "code",
   "execution_count": 280,
   "metadata": {},
   "outputs": [],
   "source": [
    "setprop!(vis[\"/Cameras/default/rotated/<object>\"], \"zoom\", 0.5)\n",
    "setprop!(vis[\"/Lights/DirectionalLight/<object>\"], \"intensity\", 1.2);"
   ]
  },
  {
   "cell_type": "markdown",
   "metadata": {},
   "source": [
    "# Animate the scene\n",
    "- Create an animation \n",
    "- Apply cars' rotations and translations at each frame\n",
    "- Apply rotations and translations to the camera"
   ]
  },
  {
   "cell_type": "markdown",
   "metadata": {},
   "source": [
    "### Create an animation and set the frame rate."
   ]
  },
  {
   "cell_type": "code",
   "execution_count": 281,
   "metadata": {},
   "outputs": [],
   "source": [
    "framerate = 6\n",
    "anim = MeshCat.Animation(\n",
    "    Dict{MeshCat.SceneTrees.Path,MeshCat.AnimationClip}(), \n",
    "    framerate);"
   ]
  },
  {
   "cell_type": "code",
   "execution_count": 282,
   "metadata": {},
   "outputs": [],
   "source": [
    "animation_type = :video\n",
    "tracking_id = 1;"
   ]
  },
  {
   "cell_type": "markdown",
   "metadata": {},
   "source": [
    "### Set the rotations and translations of the camera and the cars for each frame. "
   ]
  },
  {
   "cell_type": "code",
   "execution_count": 283,
   "metadata": {},
   "outputs": [
    {
     "name": "stderr",
     "output_type": "stream",
     "text": [
      "┌ Warning: atframe(f::Function, anim::Animation, vis::Visualizer, frame::Integer) is deprecated.\n",
      "│ Please use atframe(g, anim, frame) instead, where g is similar to f but takes\n",
      "│ no arguments and should call methods on vis.\n",
      "│ See also the updated animation example notebook.\n",
      "│   caller = top-level scope at In[283]:3\n",
      "└ @ Core In[283]:3\n"
     ]
    }
   ],
   "source": [
    "for k=1:N-1\n",
    "    # Set the poses of the two cars.\n",
    "    MeshCat.atframe(anim, vis, k) do frame\n",
    "        for id=1:p\n",
    "            car_translations[k][id]\n",
    "            car_rotations[k][id]\n",
    "            settransform!(frame[\"car$id\"],\n",
    "                compose(compose(car_translations[k][id],\n",
    "                car_offset),car_rotations[k][id]))\n",
    "            settransform!(frame[\"collision_cylinder$id\"], \n",
    "                car_translations[k][id])\n",
    "        end\n",
    "        setprop!(frame[\"/Cameras/default/rotated/<object>\"], \"zoom\", zoom)\n",
    "        setprop!(frame[\"/Cameras/default/rotated/<object>\"], \"zoom\", zoom)\n",
    "        if animation_type == :video\n",
    "             # follow car with id tracking_id\n",
    "            camera_transformation = compose(compose(\n",
    "                Translation(X[1:2,k,tracking_id]..., 0),\n",
    "                traveling_trans),\n",
    "                traveling_rot\n",
    "                )\n",
    "        elseif animation_type == :image\n",
    "            camera_transformation = compose(\n",
    "                birdseye_trans,\n",
    "                birdseye_rot)\n",
    "        end\n",
    "        settransform!(frame[\"/Cameras/default\"], camera_transformation)\n",
    "    end\n",
    "end;"
   ]
  },
  {
   "cell_type": "markdown",
   "metadata": {},
   "source": [
    "### Animate"
   ]
  },
  {
   "cell_type": "code",
   "execution_count": 285,
   "metadata": {},
   "outputs": [],
   "source": [
    "MeshCat.setanimation!(vis, anim);"
   ]
  },
  {
   "cell_type": "markdown",
   "metadata": {},
   "source": [
    "# Create a video \n",
    "- Go to the browser and record the animation: \"Open Controls/Recording/record\"\n",
    "- Using convert_meshcat_to_video to get the video. "
   ]
  },
  {
   "cell_type": "code",
   "execution_count": 293,
   "metadata": {},
   "outputs": [
    {
     "data": {
      "text/plain": [
       "convert_meshcat_to_video (generic function with 1 method)"
      ]
     },
     "execution_count": 293,
     "metadata": {},
     "output_type": "execute_result"
    }
   ],
   "source": [
    "function convert_meshcat_to_video(;filename=nothing,\n",
    "    input_path=\"results/meshcat_sequence/\",\n",
    "    output_path=\"results/video/\")\n",
    "    # Saving MeshCat sequence as a video.\n",
    "    meshcat_sequence_dir = joinpath(@__DIR__, \"..\", input_path)\n",
    "    if filename==nothing\n",
    "        filenames = readdir(meshcat_sequence_dir)\n",
    "    else\n",
    "        filenames = [filename * \".tar\"]\n",
    "    end\n",
    "    for filename in filenames\n",
    "        println(\"Converting \" * filename * \".tar to video.\" )\n",
    "        video_dir = joinpath(@__DIR__, \"..\", output_path, \n",
    "            filename[1:end-4] * \".mp4\",)\n",
    "        MeshCat.convert_frames_to_video(\n",
    "            meshcat_sequence_dir * filename,\n",
    "            video_dir,\n",
    "            overwrite=true)\n",
    "    end\n",
    "    return\n",
    "end"
   ]
  },
  {
   "cell_type": "code",
   "execution_count": 294,
   "metadata": {},
   "outputs": [
    {
     "ename": "SystemError",
     "evalue": "SystemError: unable to read directory /home/simon/research/RoboticsTutorials.jl/meshcat_tutorial/../results/meshcat_sequence/: No such file or directory",
     "output_type": "error",
     "traceback": [
      "SystemError: unable to read directory /home/simon/research/RoboticsTutorials.jl/meshcat_tutorial/../results/meshcat_sequence/: No such file or directory",
      "",
      "Stacktrace:",
      " [1] readdir(::String) at ./file.jl:628",
      " [2] #convert_meshcat_to_video#160(::Nothing, ::String, ::String, ::typeof(convert_meshcat_to_video)) at ./In[293]:7",
      " [3] convert_meshcat_to_video() at ./In[293]:5",
      " [4] top-level scope at In[294]:1"
     ]
    }
   ],
   "source": [
    "convert_meshcat_to_video()"
   ]
  },
  {
   "cell_type": "code",
   "execution_count": null,
   "metadata": {},
   "outputs": [],
   "source": []
  },
  {
   "cell_type": "code",
   "execution_count": null,
   "metadata": {},
   "outputs": [],
   "source": []
  },
  {
   "cell_type": "code",
   "execution_count": null,
   "metadata": {},
   "outputs": [],
   "source": []
  }
 ],
 "metadata": {
  "kernelspec": {
   "display_name": "Julia 1.2.0",
   "language": "julia",
   "name": "julia-1.2"
  },
  "language_info": {
   "file_extension": ".jl",
   "mimetype": "application/julia",
   "name": "julia",
   "version": "1.2.0"
  }
 },
 "nbformat": 4,
 "nbformat_minor": 2
}
