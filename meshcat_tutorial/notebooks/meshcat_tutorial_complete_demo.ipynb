{
 "cells": [
  {
   "cell_type": "markdown",
   "metadata": {},
   "source": [
    "# MeshCat.jl Tutorial\n",
    "### Create animations in Julia"
   ]
  },
  {
   "cell_type": "code",
   "execution_count": 23,
   "metadata": {},
   "outputs": [],
   "source": [
    "using Blink # Custom size window\n",
    "using Colors: RGBA, RGB # Handle RGB colors\n",
    "using CoordinateTransformations # Translations and rotations\n",
    "using FileIO # Save and load files\n",
    "using GeometryTypes: # Define geometric shapes\n",
    "    GeometryTypes, HyperRectangle, Vec, Point, Rectangle, Cylinder,\n",
    "    HomogenousMesh, SignedDistanceField, HyperSphere, GLUVMesh, Pyramid\n",
    "using JLD2 # Save and load Julia data structures\n",
    "using LinearAlgebra\n",
    "using MeshCat # Visualize 3D animations\n",
    "using MeshIO # Load meshes in MeshCat"
   ]
  },
  {
   "cell_type": "code",
   "execution_count": 24,
   "metadata": {},
   "outputs": [],
   "source": [
    "include(\"../src/structure.jl\") # Import parameters data structures\n",
    "include(\"../src/parameters.jl\"); # Import default parameters of the scene"
   ]
  },
  {
   "cell_type": "markdown",
   "metadata": {},
   "source": [
    "### Load the trajectories of the cars and the parameters of the scene obtained via ALGAMES."
   ]
  },
  {
   "cell_type": "code",
   "execution_count": 25,
   "metadata": {},
   "outputs": [],
   "source": [
    "function load_data()\n",
    "    load(\"../animation/trajectory/scene.jld2\", \"X\", \"U\",\n",
    "        \"problem_parameters\", \"scene_parameters\")\n",
    "end\n",
    "X, U, prob_param, scene_param = load_data()\n",
    "\n",
    "# Extract problem parameters\n",
    "N = prob_param.N\n",
    "p = prob_param.p\n",
    "radius = prob_param.radius\n",
    "state_bound_points = prob_param.boundary_points\n",
    "merge_point = prob_param.merge_point\n",
    "\n",
    "# Extract scene parameters\n",
    "road_dims = scene_param.road_dims\n",
    "line_width = scene_param.line_width\n",
    "boundary_width = scene_param.boundary_width\n",
    "road_trans = scene_param.road_trans\n",
    "road_translation = Translation(road_trans...)\n",
    "boundary_height = scene_param.boundary_height\n",
    "cylinder_height = scene_param.cylinder_height\n",
    "car_offset = scene_param.car_offset\n",
    "color_names = scene_param.color_names\n",
    "color_values = scene_param.color_values;\n",
    "tracking_id = scene_param.tracking_id\n",
    "zoom = scene_param.zoom\n",
    "traveling_trans = scene_param.traveling_trans\n",
    "traveling_rot = scene_param.traveling_rot\n",
    "birdseye_trans = scene_param.birdseye_trans\n",
    "birdseye_rot = scene_param.birdseye_rot;"
   ]
  },
  {
   "cell_type": "markdown",
   "metadata": {},
   "source": [
    "### For each car, create a sequence of car translations and rotations corresponding to their trajectories. "
   ]
  },
  {
   "cell_type": "code",
   "execution_count": 27,
   "metadata": {},
   "outputs": [],
   "source": [
    "function car_transformations(X, prob_param, scene_param)\n",
    "    car_offset = scene_param.car_offset\n",
    "    N = prob_param.N\n",
    "    p = prob_param.p\n",
    "    car_translations = []\n",
    "    car_rotations = []\n",
    "    for k=1:N\n",
    "        car_translation = [Translation(X[1:2,k,id]..., 0) for id=1:p]\n",
    "        if k==N\n",
    "            # Deals with the last step, we assume constant heading\n",
    "            car_rotation = car_rotations[end]\n",
    "        else\n",
    "            angles = [atan(X[2,k+1,id]-X[2,k,id], X[1,k+1,id]-X[1,k,id])\n",
    "                for id=1:p]\n",
    "            car_rotation = [LinearMap(AngleAxis(angles[id], 0, 1, 0))\n",
    "                for id=1:p]\n",
    "        end\n",
    "        push!(car_translations, car_translation)\n",
    "        push!(car_rotations, car_rotation)\n",
    "    end\n",
    "    return car_translations, car_rotations\n",
    "end\n",
    "car_translations, car_rotations = car_transformations(\n",
    "        X, prob_param, scene_param);"
   ]
  },
  {
   "cell_type": "markdown",
   "metadata": {},
   "source": [
    "# Create the scene\n",
    "\n",
    "### Create and open visualizer"
   ]
  },
  {
   "cell_type": "code",
   "execution_count": 28,
   "metadata": {},
   "outputs": [
    {
     "name": "stderr",
     "output_type": "stream",
     "text": [
      "┌ Info: Serving MeshCat visualizer at http://127.0.0.1:8703\n",
      "└ @ MeshCat /home/simon/.julia/packages/MeshCat/GMobF/src/servers.jl:24\n",
      "┌ Error: error handling request\n",
      "│   exception = (Base.IOError(\"stream is closed or unusable\", 0), Base.StackTraces.StackFrame[check_open at stream.jl:323 [inlined], uv_write_async(::Sockets.TCPSocket, ::Ptr{UInt8}, ::UInt64, ::Task) at stream.jl:901, uv_write(::Sockets.TCPSocket, ::Ptr{UInt8}, ::UInt64) at stream.jl:877, unsafe_write(::Sockets.TCPSocket, ::Ptr{UInt8}, ::UInt64) at stream.jl:931, macro expansion at ConnectionPool.jl:134 [inlined], write at io.jl:177 [inlined], closebody at Streams.jl:111 [inlined], closewrite(::HTTP.Streams.Stream{HTTP.Messages.Request,HTTP.ConnectionPool.Transaction{Sockets.TCPSocket}}) at Streams.jl:126, (::getfield(HTTP.Servers, Symbol(\"##13#14\")){getfield(WebSockets, Symbol(\"#_servercoroutine#11\")){WebSockets.ServerWS},HTTP.ConnectionPool.Transaction{Sockets.TCPSocket},HTTP.Streams.Stream{HTTP.Messages.Request,HTTP.ConnectionPool.Transaction{Sockets.TCPSocket}}})() at task.jl:268])\n",
      "└ @ HTTP.Servers /home/simon/.julia/packages/HTTP/lZVI1/src/Servers.jl:364\n"
     ]
    }
   ],
   "source": [
    "vis = Visualizer()\n",
    "open(vis);"
   ]
  },
  {
   "cell_type": "markdown",
   "metadata": {},
   "source": [
    "### Display cars in Meshcat\n",
    "- Load the Mesh from the .obj file.\n",
    "- Load the texture image from the .png file.\n",
    "- Create texture from the image.\n",
    "- Create material from the texture.\n",
    "- Create object by combining the material and the mesh. \n"
   ]
  },
  {
   "cell_type": "code",
   "execution_count": 29,
   "metadata": {},
   "outputs": [],
   "source": [
    "# Load mesh\n",
    "car = load(\"../animation/object/car/car_geometry.obj\", GLUVMesh)\n",
    "for id=1:p\n",
    "    # Load texture image\n",
    "    car_image = PngImage(\"../animation/image/\" * color_names[id] * \".png\")\n",
    "    # Create texture \n",
    "    car_texture = Texture(image=car_image)\n",
    "    # Create material\n",
    "    car_material = MeshLambertMaterial(map=car_texture)\n",
    "    # Create object\n",
    "    setobject!(vis[\"car$id\"], car, car_material)\n",
    "    # Place object at the origin\n",
    "    settransform!(vis[\"car$id\"], car_offset)\n",
    "    # Add collision avoidance cylinders\n",
    "    collision_cylinder = Cylinder(Point(0.0,0.0,0.0),\n",
    "        Point(0.0,0.0,cylinder_height), radius)\n",
    "    cylinder_material = MeshPhongMaterial(color=RGBA(\n",
    "            color_values[id,:]..., 9e-1))\n",
    "    setobject!(vis[\"collision_cylinder$id\"], \n",
    "        collision_cylinder, cylinder_material)\n",
    "    settransform!(vis[\"collision_cylinder$id\"], \n",
    "        Translation(0.0, 0.0, 0.0))\n",
    "end"
   ]
  },
  {
   "cell_type": "markdown",
   "metadata": {},
   "source": [
    "### Display the main roadway"
   ]
  },
  {
   "cell_type": "code",
   "execution_count": 30,
   "metadata": {},
   "outputs": [],
   "source": [
    "road_image = PngImage(\"../animation/image/road.png\")\n",
    "road_texture = Texture(image=road_image)\n",
    "road_material = MeshLambertMaterial(map=road_texture)\n",
    "road_width = (state_bound_points[1,2]+radius) - \n",
    "    (state_bound_points[3,2]-radius) + 2*line_width\n",
    "road = HyperRectangle(Vec(0.0, -(road_width/2-road_dims[2]), \n",
    "    -road_dims[3]), Vec(road_dims[1], road_width, road_dims[3]))\n",
    "setobject!(vis[\"road\"], road, road_material)\n",
    "settransform!(vis[\"road\"], road_translation);"
   ]
  },
  {
   "cell_type": "markdown",
   "metadata": {},
   "source": [
    "### Display the yellow lines"
   ]
  },
  {
   "cell_type": "code",
   "execution_count": 31,
   "metadata": {},
   "outputs": [],
   "source": [
    "line_material = MeshPhongMaterial(color=RGBA(1, 1, 0, 1.0))\n",
    "line = Rectangle(0.0, 0.0, road_dims[1], line_width)\n",
    "for i=1:3\n",
    "    setobject!(vis[\"line$i\"], line, line_material)\n",
    "    line_translation = compose(Translation(0, (i-1)*road_dims[2] - \n",
    "            line_width/2, 0.04), road_translation)\n",
    "    settransform!(vis[\"line$i\"], line_translation)\n",
    "end"
   ]
  },
  {
   "cell_type": "markdown",
   "metadata": {},
   "source": [
    "### Display the road boundaries"
   ]
  },
  {
   "cell_type": "code",
   "execution_count": 32,
   "metadata": {},
   "outputs": [],
   "source": [
    "boundary_image = PngImage(\"../animation/image/black_boundary.png\")\n",
    "boundary_texture = Texture(image=boundary_image)\n",
    "boundary_material = MeshLambertMaterial(map=boundary_texture)\n",
    "ramp_extension = 10.0;"
   ]
  },
  {
   "cell_type": "markdown",
   "metadata": {},
   "source": [
    "#### Upper boundary\n"
   ]
  },
  {
   "cell_type": "code",
   "execution_count": 33,
   "metadata": {},
   "outputs": [],
   "source": [
    "boundary1 = HyperRectangle(Vec(0.0, 0.0, 0.0), \n",
    "    Vec(road_dims[1], boundary_width, boundary_height))\n",
    "setobject!(vis[\"boundary1\"], boundary1, boundary_material)\n",
    "boundary1_translation = compose(Translation(0, \n",
    "        state_bound_points[1,2]+radius, 0.0), road_translation)\n",
    "settransform!(vis[\"boundary1\"], boundary1_translation);"
   ]
  },
  {
   "cell_type": "markdown",
   "metadata": {},
   "source": [
    "#### Lower boundary 1\n"
   ]
  },
  {
   "cell_type": "code",
   "execution_count": 34,
   "metadata": {},
   "outputs": [],
   "source": [
    "Δ = [merge_point, state_bound_points[3,2] - state_bound_points[2,2]]\n",
    "length = sqrt(Δ'*Δ) + ramp_extension\n",
    "angle = atan(Δ[2], Δ[1])\n",
    "boundary2 = HyperRectangle(Vec(-ramp_extension, \n",
    "        -boundary_width, 0.0), Vec(length - radius*sin(angle/2), \n",
    "        boundary_width, boundary_height))\n",
    "setobject!(vis[\"boundary2\"], boundary2, boundary_material)\n",
    "boundary2_translation = Translation(radius*cos(-pi/2+angle), \n",
    "    state_bound_points[2,2]+radius*sin(-pi/2+angle), 0.0)\n",
    "boundary2_translation = compose(Translation(-4*radius*sin(angle/2), 0, 0),\n",
    "    boundary2_translation)\n",
    "boundary2_translation = compose(LinearMap(AngleAxis(angle, 0, 0, 1)), \n",
    "    boundary2_translation)\n",
    "settransform!(vis[\"boundary2\"], boundary2_translation);"
   ]
  },
  {
   "cell_type": "markdown",
   "metadata": {},
   "source": [
    "#### Lower boundary 2\n"
   ]
  },
  {
   "cell_type": "code",
   "execution_count": 35,
   "metadata": {},
   "outputs": [],
   "source": [
    "boundary3 =\tHyperRectangle(Vec(0.0, -boundary_width, 0.0), \n",
    "    Vec(road_dims[1]-merge_point+road_trans[1]-radius*sin(angle/2), \n",
    "        boundary_width, boundary_height))\n",
    "setobject!(vis[\"boundary3\"], \n",
    "    boundary3, boundary_material)\n",
    "boundary3_translation = Translation(merge_point+radius*sin(angle/2), \n",
    "    state_bound_points[3,2]-radius, 0.0)\n",
    "settransform!(vis[\"boundary3\"], boundary3_translation);"
   ]
  },
  {
   "cell_type": "markdown",
   "metadata": {},
   "source": [
    "### Display the ramp"
   ]
  },
  {
   "cell_type": "code",
   "execution_count": 36,
   "metadata": {},
   "outputs": [],
   "source": [
    "ramp_width = road_width - road_dims[2]\n",
    "ramp = HyperRectangle(Vec(-ramp_extension, 0.0, -road_dims[3]), \n",
    "    Vec(length, ramp_width, road_dims[3]))\n",
    "ramp_translation = Translation(0.0, state_bound_points[2,2]-radius, -0.04)\n",
    "ramp_translation = compose(LinearMap(AngleAxis(angle, 0, 0, 1)), \n",
    "    ramp_translation)\n",
    "setobject!(vis[\"ramp\"], ramp, road_material)\n",
    "settransform!(vis[\"ramp\"], ramp_translation);"
   ]
  },
  {
   "cell_type": "markdown",
   "metadata": {},
   "source": [
    "# Improve the visualization\n",
    "### Delete the grid and the axes in the visualizer."
   ]
  },
  {
   "cell_type": "code",
   "execution_count": 37,
   "metadata": {},
   "outputs": [],
   "source": [
    "delete!(vis[\"/Grid\"])\n",
    "delete!(vis[\"/Axes\"]);"
   ]
  },
  {
   "cell_type": "markdown",
   "metadata": {},
   "source": [
    "### Set the camera and light properties."
   ]
  },
  {
   "cell_type": "code",
   "execution_count": 38,
   "metadata": {},
   "outputs": [],
   "source": [
    "setprop!(vis[\"/Cameras/default/rotated/<object>\"], \"zoom\", 0.8)\n",
    "setprop!(vis[\"/Lights/DirectionalLight/<object>\"], \"intensity\", 1.2);"
   ]
  },
  {
   "cell_type": "markdown",
   "metadata": {},
   "source": [
    "# Animate the scene\n",
    "- Create an animation \n",
    "- Apply cars' rotations and translations at each frame\n",
    "- Apply rotations and translations to the camera"
   ]
  },
  {
   "cell_type": "markdown",
   "metadata": {},
   "source": [
    "### Create an animation and set the frame rate."
   ]
  },
  {
   "cell_type": "code",
   "execution_count": 39,
   "metadata": {},
   "outputs": [],
   "source": [
    "framerate = 6\n",
    "anim = MeshCat.Animation(\n",
    "    Dict{MeshCat.SceneTrees.Path,MeshCat.AnimationClip}(), \n",
    "    framerate);"
   ]
  },
  {
   "cell_type": "code",
   "execution_count": 43,
   "metadata": {},
   "outputs": [],
   "source": [
    "animation_type = :image\n",
    "tracking_id = 1;"
   ]
  },
  {
   "cell_type": "markdown",
   "metadata": {},
   "source": [
    "### Set the rotations and translations of the camera and the cars for each frame. "
   ]
  },
  {
   "cell_type": "code",
   "execution_count": 46,
   "metadata": {},
   "outputs": [
    {
     "name": "stderr",
     "output_type": "stream",
     "text": [
      "┌ Warning: atframe(f::Function, anim::Animation, vis::Visualizer, frame::Integer) is deprecated.\n",
      "│ Please use atframe(g, anim, frame) instead, where g is similar to f but takes\n",
      "│ no arguments and should call methods on vis.\n",
      "│ See also the updated animation example notebook.\n",
      "│   caller = top-level scope at In[46]:3\n",
      "└ @ Core In[46]:3\n"
     ]
    }
   ],
   "source": [
    "for k=1:N-1\n",
    "    # Set the poses of the two cars.\n",
    "    MeshCat.atframe(anim, vis, k) do frame\n",
    "        for id=1:p\n",
    "            car_translations[k][id]\n",
    "            car_rotations[k][id]\n",
    "            settransform!(frame[\"car$id\"],\n",
    "                compose(compose(car_translations[k][id],\n",
    "                car_offset),car_rotations[k][id]))\n",
    "            settransform!(frame[\"collision_cylinder$id\"], \n",
    "                car_translations[k][id])\n",
    "        end\n",
    "        setprop!(frame[\"/Cameras/default/rotated/<object>\"], \"zoom\", zoom)\n",
    "        setprop!(frame[\"/Cameras/default/rotated/<object>\"], \"zoom\", zoom)\n",
    "        if animation_type == :video\n",
    "             # follow car with id tracking_id\n",
    "            camera_transformation = compose(compose(\n",
    "                Translation(X[1:2,k,tracking_id]..., 0),\n",
    "                traveling_trans),\n",
    "                traveling_rot\n",
    "                )\n",
    "        elseif animation_type == :image\n",
    "            camera_transformation = compose(\n",
    "                birdseye_trans,\n",
    "                birdseye_rot)\n",
    "        end\n",
    "        settransform!(frame[\"/Cameras/default\"], camera_transformation)\n",
    "    end\n",
    "end;"
   ]
  },
  {
   "cell_type": "markdown",
   "metadata": {},
   "source": [
    "### Animate"
   ]
  },
  {
   "cell_type": "code",
   "execution_count": 47,
   "metadata": {},
   "outputs": [],
   "source": [
    "MeshCat.setanimation!(vis, anim);"
   ]
  },
  {
   "cell_type": "markdown",
   "metadata": {},
   "source": [
    "# Create a video \n",
    "- Go to the browser and record the animation: \"Open Controls/Recording/record\"\n",
    "- Using convert_meshcat_to_video to get the video. "
   ]
  },
  {
   "cell_type": "code",
   "execution_count": 21,
   "metadata": {},
   "outputs": [
    {
     "data": {
      "text/plain": [
       "convert_meshcat_to_video (generic function with 1 method)"
      ]
     },
     "execution_count": 21,
     "metadata": {},
     "output_type": "execute_result"
    }
   ],
   "source": [
    "function convert_meshcat_to_video(;filename=nothing,\n",
    "    input_path=\"results/meshcat_sequence/\",\n",
    "    output_path=\"results/video/\")\n",
    "    # Saving MeshCat sequence as a video.\n",
    "    meshcat_sequence_dir = joinpath(@__DIR__, \"..\", input_path)\n",
    "    if filename==nothing\n",
    "        filenames = readdir(meshcat_sequence_dir)\n",
    "    else\n",
    "        filenames = [filename * \".tar\"]\n",
    "    end\n",
    "    for filename in filenames\n",
    "        println(\"Converting \" * filename * \" to video.\" )\n",
    "        video_dir = joinpath(@__DIR__, \"..\", output_path, \n",
    "            filename[1:end-4] * \".mp4\",)\n",
    "        MeshCat.convert_frames_to_video(\n",
    "            meshcat_sequence_dir * filename,\n",
    "            video_dir,\n",
    "            overwrite=true)\n",
    "    end\n",
    "    return\n",
    "end"
   ]
  },
  {
   "cell_type": "code",
   "execution_count": 48,
   "metadata": {},
   "outputs": [
    {
     "name": "stdout",
     "output_type": "stream",
     "text": [
      "Converting meshcat_1575256500546.tar to video.\n"
     ]
    },
    {
     "name": "stderr",
     "output_type": "stream",
     "text": [
      "ffmpeg version 3.4.6-0ubuntu0.18.04.1 Copyright (c) 2000-2019 the FFmpeg developers\n",
      "  built with gcc 7 (Ubuntu 7.3.0-16ubuntu3)\n",
      "  configuration: --prefix=/usr --extra-version=0ubuntu0.18.04.1 --toolchain=hardened --libdir=/usr/lib/x86_64-linux-gnu --incdir=/usr/include/x86_64-linux-gnu --enable-gpl --disable-stripping --enable-avresample --enable-avisynth --enable-gnutls --enable-ladspa --enable-libass --enable-libbluray --enable-libbs2b --enable-libcaca --enable-libcdio --enable-libflite --enable-libfontconfig --enable-libfreetype --enable-libfribidi --enable-libgme --enable-libgsm --enable-libmp3lame --enable-libmysofa --enable-libopenjpeg --enable-libopenmpt --enable-libopus --enable-libpulse --enable-librubberband --enable-librsvg --enable-libshine --enable-libsnappy --enable-libsoxr --enable-libspeex --enable-libssh --enable-libtheora --enable-libtwolame --enable-libvorbis --enable-libvpx --enable-libwavpack --enable-libwebp --enable-libx265 --enable-libxml2 --enable-libxvid --enable-libzmq --enable-libzvbi --enable-omx --enable-openal --enable-opengl --enable-sdl2 --enable-libdc1394 --enable-libdrm --enable-libiec61883 --enable-chromaprint --enable-frei0r --enable-libopencv --enable-libx264 --enable-shared\n",
      "  WARNING: library configuration mismatch\n",
      "  avcodec     configuration: --prefix=/usr --extra-version=0ubuntu0.18.04.1 --toolchain=hardened --libdir=/usr/lib/x86_64-linux-gnu --incdir=/usr/include/x86_64-linux-gnu --enable-gpl --disable-stripping --enable-avresample --enable-avisynth --enable-gnutls --enable-ladspa --enable-libass --enable-libbluray --enable-libbs2b --enable-libcaca --enable-libcdio --enable-libflite --enable-libfontconfig --enable-libfreetype --enable-libfribidi --enable-libgme --enable-libgsm --enable-libmp3lame --enable-libmysofa --enable-libopenjpeg --enable-libopenmpt --enable-libopus --enable-libpulse --enable-librubberband --enable-librsvg --enable-libshine --enable-libsnappy --enable-libsoxr --enable-libspeex --enable-libssh --enable-libtheora --enable-libtwolame --enable-libvorbis --enable-libvpx --enable-libwavpack --enable-libwebp --enable-libx265 --enable-libxml2 --enable-libxvid --enable-libzmq --enable-libzvbi --enable-omx --enable-openal --enable-opengl --enable-sdl2 --enable-libdc1394 --enable-libdrm --enable-libiec61883 --enable-chromaprint --enable-frei0r --enable-libopencv --enable-libx264 --enable-shared --enable-version3 --disable-doc --disable-programs --enable-libopencore_amrnb --enable-libopencore_amrwb --enable-libtesseract --enable-libvo_amrwbenc\n",
      "  libavutil      55. 78.100 / 55. 78.100\n",
      "  libavcodec     57.107.100 / 57.107.100\n",
      "  libavformat    57. 83.100 / 57. 83.100\n",
      "  libavdevice    57. 10.100 / 57. 10.100\n",
      "  libavfilter     6.107.100 /  6.107.100\n",
      "  libavresample   3.  7.  0 /  3.  7.  0\n",
      "  libswscale      4.  8.100 /  4.  8.100\n",
      "  libswresample   2.  9.100 /  2.  9.100\n",
      "  libpostproc    54.  7.100 / 54.  7.100\n",
      "Input #0, image2, from '%07d.png':\n",
      "  Duration: 00:00:09.60, start: 0.000000, bitrate: N/A\n",
      "    Stream #0:0: Video: png, rgba(pc), 492x321, 25 fps, 25 tbr, 25 tbn, 25 tbc\n",
      "Stream mapping:\n",
      "  Stream #0:0 -> #0:0 (png (native) -> h264 (libx264))\n",
      "Press [q] to stop, [?] for help\n",
      "[libx264 @ 0x55cff9782fa0] using cpu capabilities: MMX2 SSE2Fast SSSE3 SSE4.2 AVX FMA3 BMI2 AVX2\n",
      "[libx264 @ 0x55cff9782fa0] profile High 4:4:4 Predictive, level 3.0, 4:4:4 8-bit\n",
      "[libx264 @ 0x55cff9782fa0] 264 - core 152 r2854 e9a5903 - H.264/MPEG-4 AVC codec - Copyleft 2003-2017 - http://www.videolan.org/x264.html - options: cabac=1 ref=5 deblock=1:0:0 analyse=0x1:0x111 me=hex subme=8 psy=1 psy_rd=1.00:0.00 mixed_ref=1 me_range=16 chroma_me=1 trellis=2 8x8dct=0 cqm=0 deadzone=21,11 fast_pskip=1 chroma_qp_offset=4 threads=10 lookahead_threads=1 sliced_threads=0 nr=0 decimate=1 interlaced=0 bluray_compat=0 constrained_intra=0 bframes=3 b_pyramid=2 b_adapt=1 b_bias=0 direct=3 weightb=1 open_gop=0 weightp=2 keyint=250 keyint_min=25 scenecut=40 intra_refresh=0 rc_lookahead=50 rc=crf mbtree=1 crf=18.0 qcomp=0.60 qpmin=0 qpmax=69 qpstep=4 ip_ratio=1.40 aq=1:1.00\n",
      "Output #0, mp4, to '/home/simon/research/RoboticsTutorials.jl/meshcat_tutorial/results/video/meshcat_1575256500546.mp4':\n",
      "  Metadata:\n",
      "    encoder         : Lavf57.83.100\n",
      "    Stream #0:0: Video: h264 (libx264) (avc1 / 0x31637661), yuv444p, 492x321, q=-1--1, 60 fps, 15360 tbn, 60 tbc\n",
      "    Metadata:\n",
      "      encoder         : Lavc57.107.100 libx264\n",
      "    Side data:\n",
      "      cpb: bitrate max/min/avg: 0/0/0 buffer size: 0 vbv_delay: -1\n",
      "Past duration 0.999992 too large\n",
      "    Last message repeated 160 times\n",
      "Past duration 0.999992 too large       0kB time=00:00:01.60 bitrate=   0.2kbits/s dup=1 drop=0 speed=3.17x    \n",
      "    Last message repeated 77 times\n",
      "frame=  241 fps=0.0 q=-1.0 Lsize=     424kB time=00:00:03.96 bitrate= 876.6kbits/s dup=1 drop=0 speed=4.13x    \n",
      "video:421kB audio:0kB subtitle:0kB other streams:0kB global headers:0kB muxing overhead: 0.865104%\n",
      "[libx264 @ 0x55cff9782fa0] frame I:1     Avg QP:18.11  size: 15114\n",
      "[libx264 @ 0x55cff9782fa0] frame P:61    Avg QP:23.22  size:  4378\n",
      "[libx264 @ 0x55cff9782fa0] frame B:179   Avg QP:28.61  size:   827\n",
      "[libx264 @ 0x55cff9782fa0] consecutive B-frames:  0.4%  1.7%  0.0% 97.9%\n",
      "[libx264 @ 0x55cff9782fa0] mb I  I16..4: 71.6%  0.0% 28.4%\n",
      "[libx264 @ 0x55cff9782fa0] mb P  I16..4:  0.3%  0.0%  1.5%  P16..4:  6.9%  9.7% 10.7%  0.0%  0.0%    skip:70.9%\n",
      "[libx264 @ 0x55cff9782fa0] mb B  I16..4:  0.1%  0.0%  0.9%  B16..8: 11.2%  5.1%  2.1%  direct: 2.0%  skip:78.5%  L0:44.6% L1:32.9% BI:22.5%\n",
      "[libx264 @ 0x55cff9782fa0] direct mvs  spatial:96.6% temporal:3.4%\n",
      "[libx264 @ 0x55cff9782fa0] coded y,u,v intra: 37.9% 10.6% 6.4% inter: 6.1% 1.5% 0.5%\n",
      "[libx264 @ 0x55cff9782fa0] i16 v,h,dc,p: 10% 83%  1%  6%\n",
      "[libx264 @ 0x55cff9782fa0] i4 v,h,dc,ddl,ddr,vr,hd,vl,hu: 81%  5%  5%  1%  1%  5%  1%  1%  1%\n",
      "[libx264 @ 0x55cff9782fa0] Weighted P-Frames: Y:0.0% UV:0.0%\n",
      "[libx264 @ 0x55cff9782fa0] ref P L0: 47.8%  9.7% 21.2% 13.1%  8.2%\n",
      "[libx264 @ 0x55cff9782fa0] ref B L0: 60.6% 26.9% 10.9%  1.6%\n",
      "[libx264 @ 0x55cff9782fa0] ref B L1: 84.9% 15.1%\n",
      "[libx264 @ 0x55cff9782fa0] kb/s:856.91\n",
      "┌ Info: Saved output as /home/simon/research/RoboticsTutorials.jl/meshcat_tutorial/results/video/meshcat_1575256500546.mp4\n",
      "└ @ MeshCat /home/simon/.julia/packages/MeshCat/GMobF/src/animations.jl:96\n",
      "Error handling websocket connection:\n",
      "\u001b[91mWebSockets.WebSocketClosedError(\"ws|server respond to OPCODE_CLOSE 1001:Going Away\")\u001b[39m\n",
      "Stacktrace:\n",
      " [1] \u001b[1mtry_yieldto\u001b[22m\u001b[1m(\u001b[22m::typeof(Base.ensure_rescheduled), Error handling websocket connection:\n",
      "\u001b[91mWebSockets.WebSocketClosedError(\"ws|server respond to OPCODE_CLOSE 1001:Going Away\")\u001b[39m::\n",
      "Stacktrace:Base.RefValue{Task}\u001b[1m)\u001b[22m\n",
      " at  [1] \u001b[1m./task.jl:517\u001b[22m\u001b[1mtry_yieldto\u001b[22m\n",
      "\u001b[1m(\u001b[22m [2] \u001b[1mwait\u001b[22m::\u001b[1m(\u001b[22mtypeof(\u001b[1m)\u001b[22mBase at .\u001b[1m./task.jl:592\u001b[22mensure_rescheduled), \n",
      " [3] \u001b[1mwait\u001b[22m::\u001b[1m(\u001b[22mBase.RefValue{Task}\u001b[1m)\u001b[22m:: at Base\u001b[1m./task.jl:517\u001b[22m.GenericCondition{Base.Threads.SpinLock}\u001b[1m)\u001b[22m\n",
      " at  [2] \u001b[1m./condition.jl:104\u001b[22m\u001b[1mwait\u001b[22m\n",
      "\u001b[1m(\u001b[22m [4] \u001b[1m)\u001b[22m\u001b[1mwait\u001b[22m at \u001b[1m(\u001b[22m\u001b[1m./task.jl:592\u001b[22m::Task\u001b[1m)\u001b[22m\n",
      " at  [3] \u001b[1m./task.jl:191\u001b[22m\u001b[1mwait\u001b[22m\n",
      "\u001b[1m(\u001b[22m [5] \u001b[1mcreate_socket\u001b[22m::\u001b[1m(\u001b[22mBase.GenericCondition{Base.Threads.SpinLock}\u001b[1m)\u001b[22m:: at Dict\u001b[1m./condition.jl:104\u001b[22m{Any,Any}\u001b[1m)\u001b[22m\n",
      " at  [4] \u001b[1m/home/simon/.julia/packages/WebIO/2mZPb/src/providers/mux.jl:44\u001b[22m\u001b[1mwait\u001b[22m\n",
      "\u001b[1m(\u001b[22m [6] \u001b[1m(::getfield(Mux, Symbol(\"##5#6\")){getfield(Mux, Symbol(\"##28#29\")){Array{SubString{String},1}},typeof(WebIO.create_socket)})\u001b[22m::\u001b[1m(\u001b[22mTask\u001b[1m)\u001b[22m:: at Function\u001b[1m./task.jl:191\u001b[22m, \n",
      " [5] \u001b[1mcreate_socket\u001b[22m::\u001b[1m(\u001b[22mDict{Any,Any}\u001b[1m)\u001b[22m:: at Dict\u001b[1m/home/simon/.julia/packages/Mux/FeATY/src/Mux.jl:17\u001b[22m{Any,Any}\u001b[1m)\u001b[22m\n",
      " at  [7] \u001b[1m/home/simon/.julia/packages/WebIO/2mZPb/src/providers/mux.jl:44\u001b[22m\u001b[1m#1\u001b[22m\n",
      " at  [6] \u001b[1m/home/simon/.julia/packages/Mux/FeATY/src/Mux.jl:10\u001b[22m\u001b[1m(::getfield(Mux, Symbol(\"##5#6\")){getfield(Mux, Symbol(\"##28#29\")){Array{SubString{String},1}},typeof(WebIO.create_socket)})\u001b[22m [inlined]\u001b[1m(\u001b[22m\n",
      " [8] \u001b[1msplitquery\u001b[22m::\u001b[1m(\u001b[22mFunction, ::getfield(Mux, Symbol(\"##1#2\")){getfield(Mux, Symbol(\"##5#6\")){getfield(Mux, Symbol(\"##28#29\")){Array{SubString{String},1}},typeof(WebIO.create_socket)},getfield(Mux, Symbol(\"##1#2\")){typeof(Mux.wclose),getfield(Mux, Symbol(\"##1#2\")){getfield(Mux, Symbol(\"##18#19\")){getfield(Mux, Symbol(\"##22#23\")){Symbol,Int64}},getfield(Mux, Symbol(\"##20#21\")){String}}}}, ::Dict{Any,Any}\u001b[1m)\u001b[22m:: at Dict\u001b[1m/home/simon/.julia/packages/Mux/FeATY/src/Mux.jl:17\u001b[22m{Any,Any}\u001b[1m)\u001b[22m\n",
      " at  [7] \u001b[1m/home/simon/.julia/packages/Mux/FeATY/src/basics.jl:34\u001b[22m\u001b[1m#1\u001b[22m\n",
      " at  [9] \u001b[1m/home/simon/.julia/packages/Mux/FeATY/src/Mux.jl:10\u001b[22m\u001b[1m#1\u001b[22m [inlined] at \n",
      "\u001b[1m/home/simon/.julia/packages/Mux/FeATY/src/Mux.jl:10\u001b[22m [8]  [inlined]\u001b[1msplitquery\u001b[22m\n",
      "\u001b[1m(\u001b[22m [10] \u001b[1mwcatch\u001b[22m::\u001b[1m(\u001b[22mgetfield(Mux, Symbol(\"##1#2\")){getfield(Mux, Symbol(\"##5#6\")){getfield(Mux, Symbol(\"##28#29\")){Array{SubString{String},1}},typeof(WebIO.create_socket)},getfield(Mux, Symbol(\"##1#2\")){typeof(Mux.wclose),getfield(Mux, Symbol(\"##1#2\")){getfield(Mux, Symbol(\"##18#19\")){getfield(Mux, Symbol(\"##22#23\")){Symbol,Int64}},getfield(Mux, Symbol(\"##20#21\")){String}}}}, ::getfield(Mux, Symbol(\"##1#2\")){typeof(Mux.splitquery),getfield(Mux, Symbol(\"##1#2\")){getfield(Mux, Symbol(\"##5#6\")){getfield(Mux, Symbol(\"##28#29\")){Array{SubString{String},1}},typeof(WebIO.create_socket)},getfield(Mux, Symbol(\"##1#2\")){typeof(Mux.wclose),getfield(Mux, Symbol(\"##1#2\")){getfield(Mux, Symbol(\"##18#19\")){getfield(Mux, Symbol(\"##22#23\")){Symbol,Int64}},getfield(Mux, Symbol(\"##20#21\")){String}}}}}, ::Dict{Any,Any}\u001b[1m)\u001b[22m:: at Dict\u001b[1m/home/simon/.julia/packages/Mux/FeATY/src/basics.jl:34\u001b[22m{Any,Any}\u001b[1m)\u001b[22m\n",
      " at  [9] \u001b[1m/home/simon/.julia/packages/Mux/FeATY/src/websockets_integration.jl:12\u001b[22m\u001b[1m#1\u001b[22m\n",
      " at  [11] \u001b[1m/home/simon/.julia/packages/Mux/FeATY/src/Mux.jl:10\u001b[22m\u001b[1mtodict\u001b[22m [inlined] at \n",
      "\u001b[1m/home/simon/.julia/packages/Mux/FeATY/src/Mux.jl:10\u001b[22m [10]  [inlined]\u001b[1mwcatch\u001b[22m\n",
      "\u001b[1m(\u001b[22m [12] \u001b[1m#3\u001b[22m:: at getfield(\u001b[1m/home/simon/.julia/packages/Mux/FeATY/src/Mux.jl:14\u001b[22mMux [inlined], Symbol(\"##1#2\")){typeof(Mux.splitquery),getfield(Mux, Symbol(\"##1#2\")){getfield(Mux, Symbol(\"##5#6\")){getfield(Mux, Symbol(\"##28#29\")){Array{SubString{String},1}},typeof(WebIO.create_socket)},getfield(Mux, Symbol(\"##1#2\")){typeof(Mux.wclose),getfield(Mux, Symbol(\"##1#2\")){getfield(Mux, Symbol(\"##18#19\")){getfield(Mux, Symbol(\"##22#23\")){Symbol,Int64}},getfield(Mux, Symbol(\"##20#21\")){String}}}}},  (repeats 2 times)\n",
      " [13] \u001b[1m(::getfield(Mux, Symbol(\"##1#2\")){getfield(Mux, Symbol(\"##3#4\")){getfield(Mux, Symbol(\"##3#4\")){typeof(Mux.todict),typeof(Mux.wcatch)},typeof(Mux.splitquery)},getfield(Mux, Symbol(\"##1#2\")){getfield(Mux, Symbol(\"##5#6\")){getfield(Mux, Symbol(\"##28#29\")){Array{SubString{String},1}},typeof(WebIO.create_socket)},getfield(Mux, Symbol(\"##1#2\")){typeof(Mux.wclose),getfield(Mux, Symbol(\"##1#2\")){getfield(Mux, Symbol(\"##18#19\")){getfield(Mux, Symbol(\"##22#23\")){Symbol,Int64}},getfield(Mux, Symbol(\"##20#21\")){String}}}}})\u001b[22m::\u001b[1m(\u001b[22mDict{Any,Any}\u001b[1m)\u001b[22m:: at Tuple\u001b[1m/home/simon/.julia/packages/Mux/FeATY/src/websockets_integration.jl:12\u001b[22m{HTTP.Messages.Request,WebSockets.WebSocket{Sockets.TCPSocket}}\u001b[1m)\u001b[22m\n",
      " at  [11] \u001b[1m/home/simon/.julia/packages/Mux/FeATY/src/Mux.jl:10\u001b[22m\u001b[1mtodict\u001b[22m\n",
      " at  [14] \u001b[1m/home/simon/.julia/packages/Mux/FeATY/src/Mux.jl:10\u001b[22m\u001b[1m(::getfield(Mux, Symbol(\"##9#10\")){Mux.App})\u001b[22m [inlined]\u001b[1m(\u001b[22m\n",
      " [12] \u001b[1m#3\u001b[22m:: at HTTP.Messages\u001b[1m/home/simon/.julia/packages/Mux/FeATY/src/Mux.jl:14\u001b[22m. [inlined]Request,  (repeats 2 times)\n",
      " [13] \u001b[1m(::getfield(Mux, Symbol(\"##1#2\")){getfield(Mux, Symbol(\"##3#4\")){getfield(Mux, Symbol(\"##3#4\")){typeof(Mux.todict),typeof(Mux.wcatch)},typeof(Mux.splitquery)},getfield(Mux, Symbol(\"##1#2\")){getfield(Mux, Symbol(\"##5#6\")){getfield(Mux, Symbol(\"##28#29\")){Array{SubString{String},1}},typeof(WebIO.create_socket)},getfield(Mux, Symbol(\"##1#2\")){typeof(Mux.wclose),getfield(Mux, Symbol(\"##1#2\")){getfield(Mux, Symbol(\"##18#19\")){getfield(Mux, Symbol(\"##22#23\")){Symbol,Int64}},getfield(Mux, Symbol(\"##20#21\")){String}}}}})\u001b[22m::\u001b[1m(\u001b[22mWebSockets.WebSocket{Sockets.TCPSocket}\u001b[1m)\u001b[22m:: at Tuple\u001b[1m/home/simon/.julia/packages/Mux/FeATY/src/server.jl:49\u001b[22m{HTTP.Messages.Request,WebSockets.WebSocket{Sockets.TCPSocket}}\u001b[1m)\u001b[22m\n",
      " at  [15] \u001b[1m/home/simon/.julia/packages/Mux/FeATY/src/Mux.jl:10\u001b[22m\u001b[1mupgrade\u001b[22m\n",
      "\u001b[1m(\u001b[22m [14] \u001b[1m(::getfield(Mux, Symbol(\"##9#10\")){Mux.App})\u001b[22m::\u001b[1m(\u001b[22mgetfield(Mux, Symbol(\"##9#10\")){Mux.App}, ::HTTP.Messages.Request, ::HTTP.Streams.Stream{HTTP.Messages.Request,HTTP.ConnectionPool.Transaction{Sockets.TCPSocket}}\u001b[1m)\u001b[22m:: at WebSockets\u001b[1m/home/simon/.julia/packages/WebSockets/pc4iW/src/HTTP.jl:201\u001b[22m.WebSocket{Sockets.TCPSocket}\u001b[1m)\u001b[22m\n",
      " at  [16] \u001b[1m/home/simon/.julia/packages/Mux/FeATY/src/server.jl:49\u001b[22m\u001b[1m(::getfield(WebSockets, Symbol(\"#_servercoroutine#11\")){WebSockets.ServerWS})\u001b[22m\n",
      "\u001b[1m(\u001b[22m [15] \u001b[1mupgrade\u001b[22m::\u001b[1m(\u001b[22mHTTP.Streams.Stream{HTTP.Messages.Request,HTTP.ConnectionPool.Transaction{Sockets.TCPSocket}}\u001b[1m)\u001b[22m:: at getfield(\u001b[1m/home/simon/.julia/packages/WebSockets/pc4iW/src/HTTP.jl:370\u001b[22mMux, Symbol(\"##9#10\")){Mux.App}, \n",
      " [17] \u001b[1mmacro expansion\u001b[22m:: at HTTP.Streams\u001b[1m/home/simon/.julia/packages/HTTP/lZVI1/src/Servers.jl:360\u001b[22m. [inlined]Stream{HTTP.Messages.Request,HTTP.ConnectionPool.Transaction{Sockets.TCPSocket}}\u001b[1m)\u001b[22m\n",
      " at  [18] \u001b[1m/home/simon/.julia/packages/WebSockets/pc4iW/src/HTTP.jl:201\u001b[22m\u001b[1m(::getfield(HTTP.Servers, Symbol(\"##13#14\")){getfield(WebSockets, Symbol(\"#_servercoroutine#11\")){WebSockets.ServerWS},HTTP.ConnectionPool.Transaction{Sockets.TCPSocket},HTTP.Streams.Stream{HTTP.Messages.Request,HTTP.ConnectionPool.Transaction{Sockets.TCPSocket}}})\u001b[22m\n",
      "\u001b[1m(\u001b[22m [16] \u001b[1m)\u001b[22m\u001b[1m(::getfield(WebSockets, Symbol(\"#_servercoroutine#11\")){WebSockets.ServerWS})\u001b[22m at \u001b[1m(\u001b[22m\u001b[1m./task.jl:268\u001b[22m::HTTP.Streams.Stream{HTTP.Messages.Request,HTTP.ConnectionPool.Transaction{Sockets.TCPSocket}}\u001b[1m)\u001b[22m at \u001b[1m/home/simon/.julia/packages/WebSockets/pc4iW/src/HTTP.jl:370\u001b[22m\n",
      " [17] \u001b[1mmacro expansion\u001b[22m at \u001b[1m/home/simon/.julia/packages/HTTP/lZVI1/src/Servers.jl:360\u001b[22m [inlined]\n",
      " [18] \u001b[1m(::getfield(HTTP.Servers, Symbol(\"##13#14\")){getfield(WebSockets, Symbol(\"#_servercoroutine#11\")){WebSockets.ServerWS},HTTP.ConnectionPool.Transaction{Sockets.TCPSocket},HTTP.Streams.Stream{HTTP.Messages.Request,HTTP.ConnectionPool.Transaction{Sockets.TCPSocket}}})\u001b[22m\u001b[1m(\u001b[22m\u001b[1m)\u001b[22m at \u001b[1m./task.jl:268\u001b[22m"
     ]
    }
   ],
   "source": [
    "convert_meshcat_to_video()"
   ]
  },
  {
   "cell_type": "code",
   "execution_count": null,
   "metadata": {},
   "outputs": [],
   "source": []
  },
  {
   "cell_type": "code",
   "execution_count": null,
   "metadata": {},
   "outputs": [],
   "source": []
  },
  {
   "cell_type": "code",
   "execution_count": null,
   "metadata": {},
   "outputs": [],
   "source": []
  },
  {
   "cell_type": "code",
   "execution_count": null,
   "metadata": {},
   "outputs": [],
   "source": []
  },
  {
   "cell_type": "code",
   "execution_count": null,
   "metadata": {},
   "outputs": [],
   "source": []
  },
  {
   "cell_type": "code",
   "execution_count": null,
   "metadata": {},
   "outputs": [],
   "source": []
  }
 ],
 "metadata": {
  "kernelspec": {
   "display_name": "Julia 1.2.0",
   "language": "julia",
   "name": "julia-1.2"
  },
  "language_info": {
   "file_extension": ".jl",
   "mimetype": "application/julia",
   "name": "julia",
   "version": "1.2.0"
  }
 },
 "nbformat": 4,
 "nbformat_minor": 2
}
